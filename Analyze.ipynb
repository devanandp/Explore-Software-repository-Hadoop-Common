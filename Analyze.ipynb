{
 "cells": [
  {
   "metadata": {
    "ExecuteTime": {
     "end_time": "2024-04-19T14:58:48.626133Z",
     "start_time": "2024-04-19T14:58:48.623534Z"
    }
   },
   "cell_type": "code",
   "source": [
    "from pydriller import Repository\n",
    "from pydriller.domain.commit import ModificationType, Commit\n",
    "import pandas as pd"
   ],
   "id": "f0abd8cac0167edc",
   "outputs": [],
   "execution_count": 125
  },
  {
   "metadata": {
    "ExecuteTime": {
     "end_time": "2024-04-19T14:58:49.182546Z",
     "start_time": "2024-04-19T14:58:49.180451Z"
    }
   },
   "cell_type": "code",
   "source": "repository_path = \"hadoop/hadoop-common-project\"",
   "id": "initial_id",
   "outputs": [],
   "execution_count": 126
  },
  {
   "metadata": {
    "ExecuteTime": {
     "end_time": "2024-04-19T14:58:49.853919Z",
     "start_time": "2024-04-19T14:58:49.852389Z"
    }
   },
   "cell_type": "code",
   "source": [
    "def get_repository(path):\n",
    "    return Repository(path,)"
   ],
   "id": "ed254e404de59072",
   "outputs": [],
   "execution_count": 127
  },
  {
   "metadata": {
    "ExecuteTime": {
     "end_time": "2024-04-19T14:58:50.431779Z",
     "start_time": "2024-04-19T14:58:50.430026Z"
    }
   },
   "cell_type": "code",
   "source": [
    "repository = get_repository(repository_path)\n",
    "print(\"successfully loaded repository\")"
   ],
   "id": "a05fabd6d1bb54be",
   "outputs": [
    {
     "name": "stdout",
     "output_type": "stream",
     "text": [
      "successfully loaded repository\n"
     ]
    }
   ],
   "execution_count": 128
  },
  {
   "metadata": {
    "ExecuteTime": {
     "end_time": "2024-04-19T14:58:51.472783Z",
     "start_time": "2024-04-19T14:58:51.454677Z"
    }
   },
   "cell_type": "code",
   "source": "commits = repository.traverse_commits()",
   "id": "4c5938a9c49916c2",
   "outputs": [],
   "execution_count": 129
  },
  {
   "metadata": {
    "ExecuteTime": {
     "end_time": "2024-04-19T14:58:52.153705Z",
     "start_time": "2024-04-19T14:58:52.151702Z"
    }
   },
   "cell_type": "code",
   "source": [
    "def get_keys_list():\n",
    "    df = pd.read_excel(\"Issues_assignment1.xlsx\")\n",
    "\n",
    "    # Extract the keys from the 'key' column\n",
    "    keys = df['Key'].tolist()\n",
    "    \n",
    "    return keys"
   ],
   "id": "ade65330a8a40ac6",
   "outputs": [],
   "execution_count": 130
  },
  {
   "metadata": {
    "ExecuteTime": {
     "end_time": "2024-04-19T14:58:52.882022Z",
     "start_time": "2024-04-19T14:58:52.880274Z"
    }
   },
   "cell_type": "code",
   "source": [
    "def is_issue_present(msg: str):\n",
    "    keys = get_keys_list()\n",
    "    \n",
    "    for key in keys:\n",
    "        if msg.__contains__(key):\n",
    "            return True\n",
    "        \n",
    "    return False\n",
    "        "
   ],
   "id": "19163e5fbbfd3ef3",
   "outputs": [],
   "execution_count": 131
  },
  {
   "metadata": {
    "ExecuteTime": {
     "end_time": "2024-04-19T14:58:53.701359Z",
     "start_time": "2024-04-19T14:58:53.698506Z"
    }
   },
   "cell_type": "code",
   "source": [
    "def analyze_commit(data: Commit):\n",
    "    # Initialize counters\n",
    "    added_files = modified_files = deleted_files = 0\n",
    "    added_lines = deleted_lines = 0\n",
    "    added_methods = deleted_methods = changed_methods = 0\n",
    "    total_complexity = 0\n",
    "    \n",
    "    print(f\"Commit hash: {data.hash}\")\n",
    "    print(f\"Author: {data.author.name} <{data.author.email}>\")\n",
    "    print(f\"Date: {data.committer_date}\")\n",
    "    print(f\"Message: {data.msg}\")\n",
    "    \n",
    "    # Analyze modifications in each commit\n",
    "    for modified_file in data.modified_files:\n",
    "        if modified_file.change_type == ModificationType.ADD:\n",
    "            added_files += 1\n",
    "        elif modified_file.change_type == ModificationType.MODIFY:\n",
    "            modified_files += 1\n",
    "        elif modified_file.change_type == ModificationType.DELETE:\n",
    "            deleted_files += 1\n",
    "\n",
    "        added_lines += modified_file.added_lines\n",
    "        deleted_lines += modified_file.deleted_lines\n",
    "\n",
    "        # if modified_file.filename.endswith('.java'):\n",
    "        #     with open(modified_file.new_path, 'r', encoding=\"utf-8\", errors='ignore') as file:\n",
    "        #         content = file.read()\n",
    "        #     try:\n",
    "        #         complexity = cc_visit(content)\n",
    "        #         total_complexity += sum([node.complexity for node in complexity])\n",
    "        # \n",
    "        #         added_methods += len([m for m in complexity if m.name and m.new])\n",
    "        #         deleted_methods += len([m for m in complexity if m.name and m.old])\n",
    "        #         changed_methods += len([m for m in complexity if m.name and m.diff])\n",
    "        #     except Exception as e:\n",
    "        #         print(f\"Error processing file {modified_file.filename}: {e}\")\n",
    "\n",
    "    print(f\"No. of added files: {added_files}\")\n",
    "    print(f\"No. of modified files: {modified_files}\")\n",
    "    print(f\"No. of deleted files: {deleted_files}\")\n",
    "\n",
    "    print(f\"No. of added lines of code: {added_lines}\")\n",
    "    print(f\"No. of deleted lines of code: {deleted_lines}\")\n",
    "\n",
    "    print(f\"No. of added methods: {added_methods}\")\n",
    "    print(f\"No. of deleted methods: {deleted_methods}\")\n",
    "    print(f\"No. of changed methods: {changed_methods}\")\n",
    "\n",
    "    print(f\"Total cyclomatic complexity: {total_complexity}\")\n",
    "    print()"
   ],
   "id": "4d451ede7904cb67",
   "outputs": [],
   "execution_count": 132
  },
  {
   "metadata": {
    "ExecuteTime": {
     "end_time": "2024-04-19T14:58:55.788332Z",
     "start_time": "2024-04-19T14:58:55.754336Z"
    }
   },
   "cell_type": "code",
   "source": [
    "for commit in commits:\n",
    "    if is_issue_present(commit.msg):\n",
    "        analyze_commit(commit)"
   ],
   "id": "4f7eccf2d55845",
   "outputs": [
    {
     "ename": "InvalidGitRepositoryError",
     "evalue": "/Users/adarshchoudhary/Documents/University of Paderborn/Data Science of Software Engineering/Assignments/Assignment 1/Workable/hadoop/hadoop-common-project",
     "output_type": "error",
     "traceback": [
      "\u001B[0;31m---------------------------------------------------------------------------\u001B[0m",
      "\u001B[0;31mInvalidGitRepositoryError\u001B[0m                 Traceback (most recent call last)",
      "Cell \u001B[0;32mIn[133], line 1\u001B[0m\n\u001B[0;32m----> 1\u001B[0m \u001B[38;5;28;43;01mfor\u001B[39;49;00m\u001B[43m \u001B[49m\u001B[43mcommit\u001B[49m\u001B[43m \u001B[49m\u001B[38;5;129;43;01min\u001B[39;49;00m\u001B[43m \u001B[49m\u001B[43mcommits\u001B[49m\u001B[43m:\u001B[49m\n\u001B[1;32m      2\u001B[0m \u001B[43m    \u001B[49m\u001B[38;5;28;43;01mif\u001B[39;49;00m\u001B[43m \u001B[49m\u001B[43mis_issue_present\u001B[49m\u001B[43m(\u001B[49m\u001B[43mcommit\u001B[49m\u001B[38;5;241;43m.\u001B[39;49m\u001B[43mmsg\u001B[49m\u001B[43m)\u001B[49m\u001B[43m:\u001B[49m\n\u001B[1;32m      3\u001B[0m \u001B[43m        \u001B[49m\u001B[43manalyze_commit\u001B[49m\u001B[43m(\u001B[49m\u001B[43mcommit\u001B[49m\u001B[43m)\u001B[49m\n",
      "File \u001B[0;32m~/Documents/University of Paderborn/Data Science of Software Engineering/Assignments/Assignment 1/Workable/.env/lib/python3.12/site-packages/pydriller/repository.py:215\u001B[0m, in \u001B[0;36mRepository.traverse_commits\u001B[0;34m(self)\u001B[0m\n\u001B[1;32m    210\u001B[0m \u001B[38;5;250m\u001B[39m\u001B[38;5;124;03m\"\"\"\u001B[39;00m\n\u001B[1;32m    211\u001B[0m \u001B[38;5;124;03mAnalyze all the specified commits (all of them by default), returning\u001B[39;00m\n\u001B[1;32m    212\u001B[0m \u001B[38;5;124;03ma generator of commits.\u001B[39;00m\n\u001B[1;32m    213\u001B[0m \u001B[38;5;124;03m\"\"\"\u001B[39;00m\n\u001B[1;32m    214\u001B[0m \u001B[38;5;28;01mfor\u001B[39;00m path_repo \u001B[38;5;129;01min\u001B[39;00m \u001B[38;5;28mself\u001B[39m\u001B[38;5;241m.\u001B[39m_conf\u001B[38;5;241m.\u001B[39mget(\u001B[38;5;124m'\u001B[39m\u001B[38;5;124mpath_to_repos\u001B[39m\u001B[38;5;124m'\u001B[39m):\n\u001B[0;32m--> 215\u001B[0m \u001B[43m    \u001B[49m\u001B[38;5;28;43;01mwith\u001B[39;49;00m\u001B[43m \u001B[49m\u001B[38;5;28;43mself\u001B[39;49m\u001B[38;5;241;43m.\u001B[39;49m\u001B[43m_prep_repo\u001B[49m\u001B[43m(\u001B[49m\u001B[43mpath_repo\u001B[49m\u001B[38;5;241;43m=\u001B[39;49m\u001B[43mpath_repo\u001B[49m\u001B[43m)\u001B[49m\u001B[43m \u001B[49m\u001B[38;5;28;43;01mas\u001B[39;49;00m\u001B[43m \u001B[49m\u001B[43mgit\u001B[49m\u001B[43m:\u001B[49m\n\u001B[1;32m    216\u001B[0m \u001B[43m        \u001B[49m\u001B[43mlogger\u001B[49m\u001B[38;5;241;43m.\u001B[39;49m\u001B[43minfo\u001B[49m\u001B[43m(\u001B[49m\u001B[38;5;124;43mf\u001B[39;49m\u001B[38;5;124;43m'\u001B[39;49m\u001B[38;5;124;43mAnalyzing git repository in \u001B[39;49m\u001B[38;5;132;43;01m{\u001B[39;49;00m\u001B[43mgit\u001B[49m\u001B[38;5;241;43m.\u001B[39;49m\u001B[43mpath\u001B[49m\u001B[38;5;132;43;01m}\u001B[39;49;00m\u001B[38;5;124;43m'\u001B[39;49m\u001B[43m)\u001B[49m\n\u001B[1;32m    218\u001B[0m \u001B[43m        \u001B[49m\u001B[38;5;66;43;03m# Get the commits that modified the filepath. In this case, we can not use\u001B[39;49;00m\n\u001B[1;32m    219\u001B[0m \u001B[43m        \u001B[49m\u001B[38;5;66;43;03m# git rev-list since it doesn't have the option --follow, necessary to follow\u001B[39;49;00m\n\u001B[1;32m    220\u001B[0m \u001B[43m        \u001B[49m\u001B[38;5;66;43;03m# the renames. Hence, we manually call git log instead\u001B[39;49;00m\n",
      "File \u001B[0;32m/Library/Frameworks/Python.framework/Versions/3.12/lib/python3.12/contextlib.py:137\u001B[0m, in \u001B[0;36m_GeneratorContextManager.__enter__\u001B[0;34m(self)\u001B[0m\n\u001B[1;32m    135\u001B[0m \u001B[38;5;28;01mdel\u001B[39;00m \u001B[38;5;28mself\u001B[39m\u001B[38;5;241m.\u001B[39margs, \u001B[38;5;28mself\u001B[39m\u001B[38;5;241m.\u001B[39mkwds, \u001B[38;5;28mself\u001B[39m\u001B[38;5;241m.\u001B[39mfunc\n\u001B[1;32m    136\u001B[0m \u001B[38;5;28;01mtry\u001B[39;00m:\n\u001B[0;32m--> 137\u001B[0m     \u001B[38;5;28;01mreturn\u001B[39;00m \u001B[38;5;28;43mnext\u001B[39;49m\u001B[43m(\u001B[49m\u001B[38;5;28;43mself\u001B[39;49m\u001B[38;5;241;43m.\u001B[39;49m\u001B[43mgen\u001B[49m\u001B[43m)\u001B[49m\n\u001B[1;32m    138\u001B[0m \u001B[38;5;28;01mexcept\u001B[39;00m \u001B[38;5;167;01mStopIteration\u001B[39;00m:\n\u001B[1;32m    139\u001B[0m     \u001B[38;5;28;01mraise\u001B[39;00m \u001B[38;5;167;01mRuntimeError\u001B[39;00m(\u001B[38;5;124m\"\u001B[39m\u001B[38;5;124mgenerator didn\u001B[39m\u001B[38;5;124m'\u001B[39m\u001B[38;5;124mt yield\u001B[39m\u001B[38;5;124m\"\u001B[39m) \u001B[38;5;28;01mfrom\u001B[39;00m \u001B[38;5;28;01mNone\u001B[39;00m\n",
      "File \u001B[0;32m~/Documents/University of Paderborn/Data Science of Software Engineering/Assignments/Assignment 1/Workable/.env/lib/python3.12/site-packages/pydriller/repository.py:186\u001B[0m, in \u001B[0;36mRepository._prep_repo\u001B[0;34m(self, path_repo)\u001B[0m\n\u001B[1;32m    182\u001B[0m \u001B[38;5;66;03m# when multiple repos are given in input, this variable will serve as a reminder\u001B[39;00m\n\u001B[1;32m    183\u001B[0m \u001B[38;5;66;03m# of which one we are currently analyzing\u001B[39;00m\n\u001B[1;32m    184\u001B[0m \u001B[38;5;28mself\u001B[39m\u001B[38;5;241m.\u001B[39m_conf\u001B[38;5;241m.\u001B[39mset_value(\u001B[38;5;124m'\u001B[39m\u001B[38;5;124mpath_to_repo\u001B[39m\u001B[38;5;124m'\u001B[39m, local_path_repo)\n\u001B[0;32m--> 186\u001B[0m \u001B[38;5;28mself\u001B[39m\u001B[38;5;241m.\u001B[39mgit \u001B[38;5;241m=\u001B[39m \u001B[43mGit\u001B[49m\u001B[43m(\u001B[49m\u001B[43mlocal_path_repo\u001B[49m\u001B[43m,\u001B[49m\u001B[43m \u001B[49m\u001B[38;5;28;43mself\u001B[39;49m\u001B[38;5;241;43m.\u001B[39;49m\u001B[43m_conf\u001B[49m\u001B[43m)\u001B[49m\n\u001B[1;32m    187\u001B[0m \u001B[38;5;66;03m# saving the Git object for further use\u001B[39;00m\n\u001B[1;32m    188\u001B[0m \u001B[38;5;28mself\u001B[39m\u001B[38;5;241m.\u001B[39m_conf\u001B[38;5;241m.\u001B[39mset_value(\u001B[38;5;124m\"\u001B[39m\u001B[38;5;124mgit\u001B[39m\u001B[38;5;124m\"\u001B[39m, \u001B[38;5;28mself\u001B[39m\u001B[38;5;241m.\u001B[39mgit)\n",
      "File \u001B[0;32m~/Documents/University of Paderborn/Data Science of Software Engineering/Assignments/Assignment 1/Workable/.env/lib/python3.12/site-packages/pydriller/git.py:61\u001B[0m, in \u001B[0;36mGit.__init__\u001B[0;34m(self, path, conf)\u001B[0m\n\u001B[1;32m     58\u001B[0m \u001B[38;5;28mself\u001B[39m\u001B[38;5;241m.\u001B[39m_conf\u001B[38;5;241m.\u001B[39mset_value(\u001B[38;5;124m\"\u001B[39m\u001B[38;5;124mmain_branch\u001B[39m\u001B[38;5;124m\"\u001B[39m, \u001B[38;5;28;01mNone\u001B[39;00m)  \u001B[38;5;66;03m# init main_branch to None\u001B[39;00m\n\u001B[1;32m     60\u001B[0m \u001B[38;5;66;03m# Initialize repository\u001B[39;00m\n\u001B[0;32m---> 61\u001B[0m \u001B[38;5;28;43mself\u001B[39;49m\u001B[38;5;241;43m.\u001B[39;49m\u001B[43m_open_repository\u001B[49m\u001B[43m(\u001B[49m\u001B[43m)\u001B[49m\n",
      "File \u001B[0;32m~/Documents/University of Paderborn/Data Science of Software Engineering/Assignments/Assignment 1/Workable/.env/lib/python3.12/site-packages/pydriller/git.py:87\u001B[0m, in \u001B[0;36mGit._open_repository\u001B[0;34m(self)\u001B[0m\n\u001B[1;32m     86\u001B[0m \u001B[38;5;28;01mdef\u001B[39;00m \u001B[38;5;21m_open_repository\u001B[39m(\u001B[38;5;28mself\u001B[39m):\n\u001B[0;32m---> 87\u001B[0m     \u001B[38;5;28mself\u001B[39m\u001B[38;5;241m.\u001B[39m_repo \u001B[38;5;241m=\u001B[39m \u001B[43mRepo\u001B[49m\u001B[43m(\u001B[49m\u001B[38;5;28;43mstr\u001B[39;49m\u001B[43m(\u001B[49m\u001B[38;5;28;43mself\u001B[39;49m\u001B[38;5;241;43m.\u001B[39;49m\u001B[43mpath\u001B[49m\u001B[43m)\u001B[49m\u001B[43m)\u001B[49m\n\u001B[1;32m     88\u001B[0m     \u001B[38;5;28mself\u001B[39m\u001B[38;5;241m.\u001B[39m_repo\u001B[38;5;241m.\u001B[39mconfig_writer()\u001B[38;5;241m.\u001B[39mset_value(\u001B[38;5;124m\"\u001B[39m\u001B[38;5;124mblame\u001B[39m\u001B[38;5;124m\"\u001B[39m, \u001B[38;5;124m\"\u001B[39m\u001B[38;5;124mmarkUnblamableLines\u001B[39m\u001B[38;5;124m\"\u001B[39m, \u001B[38;5;124m\"\u001B[39m\u001B[38;5;124mtrue\u001B[39m\u001B[38;5;124m\"\u001B[39m)\u001B[38;5;241m.\u001B[39mrelease()\n\u001B[1;32m     89\u001B[0m     \u001B[38;5;28;01mif\u001B[39;00m \u001B[38;5;28mself\u001B[39m\u001B[38;5;241m.\u001B[39m_conf\u001B[38;5;241m.\u001B[39mget(\u001B[38;5;124m\"\u001B[39m\u001B[38;5;124mmain_branch\u001B[39m\u001B[38;5;124m\"\u001B[39m) \u001B[38;5;129;01mis\u001B[39;00m \u001B[38;5;28;01mNone\u001B[39;00m:\n",
      "File \u001B[0;32m~/Documents/University of Paderborn/Data Science of Software Engineering/Assignments/Assignment 1/Workable/.env/lib/python3.12/site-packages/git/repo/base.py:289\u001B[0m, in \u001B[0;36mRepo.__init__\u001B[0;34m(self, path, odbt, search_parent_directories, expand_vars)\u001B[0m\n\u001B[1;32m    286\u001B[0m \u001B[38;5;66;03m# END while curpath\u001B[39;00m\n\u001B[1;32m    288\u001B[0m \u001B[38;5;28;01mif\u001B[39;00m git_dir \u001B[38;5;129;01mis\u001B[39;00m \u001B[38;5;28;01mNone\u001B[39;00m:\n\u001B[0;32m--> 289\u001B[0m     \u001B[38;5;28;01mraise\u001B[39;00m InvalidGitRepositoryError(epath)\n\u001B[1;32m    290\u001B[0m \u001B[38;5;28mself\u001B[39m\u001B[38;5;241m.\u001B[39mgit_dir \u001B[38;5;241m=\u001B[39m git_dir\n\u001B[1;32m    292\u001B[0m \u001B[38;5;28mself\u001B[39m\u001B[38;5;241m.\u001B[39m_bare \u001B[38;5;241m=\u001B[39m \u001B[38;5;28;01mFalse\u001B[39;00m\n",
      "\u001B[0;31mInvalidGitRepositoryError\u001B[0m: /Users/adarshchoudhary/Documents/University of Paderborn/Data Science of Software Engineering/Assignments/Assignment 1/Workable/hadoop/hadoop-common-project"
     ]
    }
   ],
   "execution_count": 133
  },
  {
   "metadata": {},
   "cell_type": "code",
   "source": "",
   "id": "d8d2c020860590b4",
   "outputs": [],
   "execution_count": null
  }
 ],
 "metadata": {
  "kernelspec": {
   "display_name": "Python 3",
   "language": "python",
   "name": "python3"
  },
  "language_info": {
   "codemirror_mode": {
    "name": "ipython",
    "version": 2
   },
   "file_extension": ".py",
   "mimetype": "text/x-python",
   "name": "python",
   "nbconvert_exporter": "python",
   "pygments_lexer": "ipython2",
   "version": "2.7.6"
  }
 },
 "nbformat": 4,
 "nbformat_minor": 5
}
